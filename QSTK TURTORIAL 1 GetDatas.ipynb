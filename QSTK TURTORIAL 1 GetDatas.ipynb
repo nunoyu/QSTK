{
 "cells": [
  {
   "cell_type": "code",
   "execution_count": 2,
   "metadata": {
    "collapsed": false
   },
   "outputs": [],
   "source": [
    "import QSTK.qstkutil.qsdateutil as du\n",
    "import QSTK.qstkutil.tsutil as tsu\n",
    "import QSTK.qstkutil.DataAccess as da\n",
    "import datetime as dt\n",
    "import matplotlib.pyplot as plt\n",
    "import pandas as pd\n"
   ]
  },
  {
   "cell_type": "code",
   "execution_count": 3,
   "metadata": {
    "collapsed": true
   },
   "outputs": [],
   "source": [
    "ls_symbols = [\"AAPL\", \"GLD\", \"GOOG\", \"$SPX\", \"XOM\"]"
   ]
  },
  {
   "cell_type": "code",
   "execution_count": 10,
   "metadata": {
    "collapsed": false
   },
   "outputs": [],
   "source": [
    "dt_start = dt.datetime(2010, 1, 1) #建立两个时间\n",
    "dt_end = dt.datetime(2010, 1, 15)"
   ]
  },
  {
   "cell_type": "code",
   "execution_count": 11,
   "metadata": {
    "collapsed": false
   },
   "outputs": [
    {
     "data": {
      "text/plain": [
       "[Timestamp('2010-01-04 16:00:00'),\n",
       " Timestamp('2010-01-05 16:00:00'),\n",
       " Timestamp('2010-01-06 16:00:00'),\n",
       " Timestamp('2010-01-07 16:00:00'),\n",
       " Timestamp('2010-01-08 16:00:00'),\n",
       " Timestamp('2010-01-11 16:00:00'),\n",
       " Timestamp('2010-01-12 16:00:00'),\n",
       " Timestamp('2010-01-13 16:00:00'),\n",
       " Timestamp('2010-01-14 16:00:00')]"
      ]
     },
     "execution_count": 11,
     "metadata": {},
     "output_type": "execute_result"
    }
   ],
   "source": [
    "dt_timeofday = dt.timedelta(hours=16) #设定为每天下午四点收盘，建立时间戳\n",
    "ldt_timestamps = du.getNYSEdays(dt_start, dt_end, dt_timeofday) #QSTK的工具，获取该时间段的开盘日期\n",
    "ldt_timestamps"
   ]
  },
  {
   "cell_type": "code",
   "execution_count": 12,
   "metadata": {
    "collapsed": true
   },
   "outputs": [],
   "source": [
    "c_dataobj = da.DataAccess('Yahoo') #连接yahoo数据库。 qstk在获取数据后会自动在本地user/qstk保存副本"
   ]
  },
  {
   "cell_type": "code",
   "execution_count": 13,
   "metadata": {
    "collapsed": true
   },
   "outputs": [],
   "source": [
    "ls_keys = ['open', 'high', 'low', 'close', 'volume', 'actual_close']"
   ]
  },
  {
   "cell_type": "code",
   "execution_count": 14,
   "metadata": {
    "collapsed": false
   },
   "outputs": [
    {
     "data": {
      "text/plain": [
       "{'actual_close':                        AAPL     GLD    GOOG     $SPX    XOM\n",
       " 2010-01-04 16:00:00  214.01  109.80  626.75  1132.99  69.15\n",
       " 2010-01-05 16:00:00  214.38  109.70  623.99  1136.52  69.42\n",
       " 2010-01-06 16:00:00  210.97  111.51  608.26  1137.14  70.02\n",
       " 2010-01-07 16:00:00  210.58  110.82  594.10  1141.69  69.80\n",
       " 2010-01-08 16:00:00  211.98  111.37  602.02  1144.98  69.52\n",
       " 2010-01-11 16:00:00  210.11  112.85  601.11  1146.98  70.30\n",
       " 2010-01-12 16:00:00  207.72  110.49  590.48  1136.22  69.95\n",
       " 2010-01-13 16:00:00  210.65  111.54  587.09  1145.68  69.67\n",
       " 2010-01-14 16:00:00  209.43  112.03  589.85  1148.46  69.68,\n",
       " 'close':                        AAPL     GLD    GOOG     $SPX    XOM\n",
       " 2010-01-04 16:00:00  213.10  109.80  626.75  1132.99  64.55\n",
       " 2010-01-05 16:00:00  213.46  109.70  623.99  1136.52  64.80\n",
       " 2010-01-06 16:00:00  210.07  111.51  608.26  1137.14  65.36\n",
       " 2010-01-07 16:00:00  209.68  110.82  594.10  1141.69  65.15\n",
       " 2010-01-08 16:00:00  211.07  111.37  602.02  1144.98  64.89\n",
       " 2010-01-11 16:00:00  209.21  112.85  601.11  1146.98  65.62\n",
       " 2010-01-12 16:00:00  206.83  110.49  590.48  1136.22  65.29\n",
       " 2010-01-13 16:00:00  209.75  111.54  587.09  1145.68  65.03\n",
       " 2010-01-14 16:00:00  208.53  112.03  589.85  1148.46  65.04,\n",
       " 'high':                        AAPL     GLD    GOOG     $SPX    XOM\n",
       " 2010-01-04 16:00:00  214.50  110.14  629.51  1133.87  69.26\n",
       " 2010-01-05 16:00:00  215.59  110.39  627.84  1136.63  69.45\n",
       " 2010-01-06 16:00:00  215.23  111.77  625.86  1139.19  70.60\n",
       " 2010-01-07 16:00:00  212.00  111.29  610.00  1142.46  70.06\n",
       " 2010-01-08 16:00:00  212.00  111.58  603.25  1145.39  69.75\n",
       " 2010-01-11 16:00:00  213.00  113.59  604.46  1149.74  70.52\n",
       " 2010-01-12 16:00:00  209.77  113.05  598.16  1143.81  69.99\n",
       " 2010-01-13 16:00:00  210.93  111.57  588.38  1148.40  70.04\n",
       " 2010-01-14 16:00:00  210.46  112.37  594.20  1150.41  69.74,\n",
       " 'low':                        AAPL     GLD    GOOG     $SPX    XOM\n",
       " 2010-01-04 16:00:00  212.38  109.31  624.24  1116.56  68.19\n",
       " 2010-01-05 16:00:00  213.25  109.26  621.54  1129.66  68.80\n",
       " 2010-01-06 16:00:00  210.75  110.41  606.36  1133.95  69.34\n",
       " 2010-01-07 16:00:00  209.05  110.62  592.65  1131.32  69.42\n",
       " 2010-01-08 16:00:00  209.06  110.26  589.11  1136.22  69.22\n",
       " 2010-01-11 16:00:00  208.45  112.52  594.04  1142.02  69.65\n",
       " 2010-01-12 16:00:00  206.42  110.14  588.00  1131.77  69.52\n",
       " 2010-01-13 16:00:00  204.10  109.57  573.90  1133.18  69.26\n",
       " 2010-01-14 16:00:00  209.02  110.79  582.81  1143.80  69.35,\n",
       " 'open':                        AAPL     GLD    GOOG     $SPX    XOM\n",
       " 2010-01-04 16:00:00  213.43  109.82  626.95  1116.56  68.72\n",
       " 2010-01-05 16:00:00  214.60  109.88  627.18  1132.66  69.19\n",
       " 2010-01-06 16:00:00  214.38  110.71  625.86  1135.71  69.45\n",
       " 2010-01-07 16:00:00  211.75  111.07  609.40  1136.27  69.90\n",
       " 2010-01-08 16:00:00  210.30  111.52  592.00  1140.52  69.69\n",
       " 2010-01-11 16:00:00  212.80  113.34  604.46  1145.96  69.94\n",
       " 2010-01-12 16:00:00  209.19  112.38  597.65  1143.81  69.72\n",
       " 2010-01-13 16:00:00  207.87  110.92  576.49  1137.31  69.96\n",
       " 2010-01-14 16:00:00  210.11  111.51  583.90  1145.68  69.54,\n",
       " 'volume':                            AAPL         GLD       GOOG          $SPX  \\\n",
       " 2010-01-04 16:00:00  17633200.0  16224100.0  1956200.0  3.246193e+09   \n",
       " 2010-01-05 16:00:00  21496600.0  14213100.0  3004700.0  4.245289e+09   \n",
       " 2010-01-06 16:00:00  19720000.0  24981900.0  3978700.0  4.078729e+09   \n",
       " 2010-01-07 16:00:00  17040400.0  13609800.0  6414300.0  4.535926e+09   \n",
       " 2010-01-08 16:00:00  15986100.0  15894600.0  4724300.0  3.710763e+09   \n",
       " 2010-01-11 16:00:00  16508200.0  17253000.0  7212900.0  3.465212e+09   \n",
       " 2010-01-12 16:00:00  21230700.0  29182600.0  4853300.0  4.010716e+09   \n",
       " 2010-01-13 16:00:00  21639000.0  20014000.0  6496600.0  3.522930e+09   \n",
       " 2010-01-14 16:00:00  15460500.0  18305300.0  4240100.0  3.413560e+09   \n",
       " \n",
       "                             XOM  \n",
       " 2010-01-04 16:00:00  27809100.0  \n",
       " 2010-01-05 16:00:00  30174700.0  \n",
       " 2010-01-06 16:00:00  35044700.0  \n",
       " 2010-01-07 16:00:00  27192100.0  \n",
       " 2010-01-08 16:00:00  24891800.0  \n",
       " 2010-01-11 16:00:00  30685000.0  \n",
       " 2010-01-12 16:00:00  31496700.0  \n",
       " 2010-01-13 16:00:00  24884400.0  \n",
       " 2010-01-14 16:00:00  18630800.0  }"
      ]
     },
     "execution_count": 14,
     "metadata": {},
     "output_type": "execute_result"
    }
   ],
   "source": [
    "ldf_data = c_dataobj.get_data(ldt_timestamps, ls_symbols, ls_keys)\n",
    "d_data = dict(zip(ls_keys, ldf_data)) # 根据数据值对数据表进行整理。格式是DataFrame\n",
    "d_data"
   ]
  },
  {
   "cell_type": "code",
   "execution_count": 15,
   "metadata": {
    "collapsed": false
   },
   "outputs": [
    {
     "data": {
      "text/html": [
       "<div>\n",
       "<table border=\"1\" class=\"dataframe\">\n",
       "  <thead>\n",
       "    <tr style=\"text-align: right;\">\n",
       "      <th></th>\n",
       "      <th>AAPL</th>\n",
       "      <th>GLD</th>\n",
       "      <th>GOOG</th>\n",
       "      <th>$SPX</th>\n",
       "      <th>XOM</th>\n",
       "    </tr>\n",
       "  </thead>\n",
       "  <tbody>\n",
       "    <tr>\n",
       "      <th>2010-01-04 16:00:00</th>\n",
       "      <td>213.10</td>\n",
       "      <td>109.80</td>\n",
       "      <td>626.75</td>\n",
       "      <td>1132.99</td>\n",
       "      <td>64.55</td>\n",
       "    </tr>\n",
       "    <tr>\n",
       "      <th>2010-01-05 16:00:00</th>\n",
       "      <td>213.46</td>\n",
       "      <td>109.70</td>\n",
       "      <td>623.99</td>\n",
       "      <td>1136.52</td>\n",
       "      <td>64.80</td>\n",
       "    </tr>\n",
       "    <tr>\n",
       "      <th>2010-01-06 16:00:00</th>\n",
       "      <td>210.07</td>\n",
       "      <td>111.51</td>\n",
       "      <td>608.26</td>\n",
       "      <td>1137.14</td>\n",
       "      <td>65.36</td>\n",
       "    </tr>\n",
       "    <tr>\n",
       "      <th>2010-01-07 16:00:00</th>\n",
       "      <td>209.68</td>\n",
       "      <td>110.82</td>\n",
       "      <td>594.10</td>\n",
       "      <td>1141.69</td>\n",
       "      <td>65.15</td>\n",
       "    </tr>\n",
       "    <tr>\n",
       "      <th>2010-01-08 16:00:00</th>\n",
       "      <td>211.07</td>\n",
       "      <td>111.37</td>\n",
       "      <td>602.02</td>\n",
       "      <td>1144.98</td>\n",
       "      <td>64.89</td>\n",
       "    </tr>\n",
       "    <tr>\n",
       "      <th>2010-01-11 16:00:00</th>\n",
       "      <td>209.21</td>\n",
       "      <td>112.85</td>\n",
       "      <td>601.11</td>\n",
       "      <td>1146.98</td>\n",
       "      <td>65.62</td>\n",
       "    </tr>\n",
       "    <tr>\n",
       "      <th>2010-01-12 16:00:00</th>\n",
       "      <td>206.83</td>\n",
       "      <td>110.49</td>\n",
       "      <td>590.48</td>\n",
       "      <td>1136.22</td>\n",
       "      <td>65.29</td>\n",
       "    </tr>\n",
       "    <tr>\n",
       "      <th>2010-01-13 16:00:00</th>\n",
       "      <td>209.75</td>\n",
       "      <td>111.54</td>\n",
       "      <td>587.09</td>\n",
       "      <td>1145.68</td>\n",
       "      <td>65.03</td>\n",
       "    </tr>\n",
       "    <tr>\n",
       "      <th>2010-01-14 16:00:00</th>\n",
       "      <td>208.53</td>\n",
       "      <td>112.03</td>\n",
       "      <td>589.85</td>\n",
       "      <td>1148.46</td>\n",
       "      <td>65.04</td>\n",
       "    </tr>\n",
       "  </tbody>\n",
       "</table>\n",
       "</div>"
      ],
      "text/plain": [
       "                       AAPL     GLD    GOOG     $SPX    XOM\n",
       "2010-01-04 16:00:00  213.10  109.80  626.75  1132.99  64.55\n",
       "2010-01-05 16:00:00  213.46  109.70  623.99  1136.52  64.80\n",
       "2010-01-06 16:00:00  210.07  111.51  608.26  1137.14  65.36\n",
       "2010-01-07 16:00:00  209.68  110.82  594.10  1141.69  65.15\n",
       "2010-01-08 16:00:00  211.07  111.37  602.02  1144.98  64.89\n",
       "2010-01-11 16:00:00  209.21  112.85  601.11  1146.98  65.62\n",
       "2010-01-12 16:00:00  206.83  110.49  590.48  1136.22  65.29\n",
       "2010-01-13 16:00:00  209.75  111.54  587.09  1145.68  65.03\n",
       "2010-01-14 16:00:00  208.53  112.03  589.85  1148.46  65.04"
      ]
     },
     "execution_count": 15,
     "metadata": {},
     "output_type": "execute_result"
    }
   ],
   "source": [
    "d_data['close'] #仅列出close数据"
   ]
  },
  {
   "cell_type": "code",
   "execution_count": 21,
   "metadata": {
    "collapsed": false
   },
   "outputs": [
    {
     "data": {
      "text/plain": [
       "<matplotlib.text.Text at 0xa564e48>"
      ]
     },
     "execution_count": 21,
     "metadata": {},
     "output_type": "execute_result"
    },
    {
     "data": {
      "image/png": "[encoded data removed]",
      "text/plain": [
       "<matplotlib.figure.Figure at 0x9a99550>"
      ]
     },
     "metadata": {},
     "output_type": "display_data"
    }
   ],
   "source": [
    "%matplotlib inline\n",
    "na_price = d_data['close'].values #各个股票的值\n",
    "plt.clf() #清空画图区域\n",
    "plt.plot(ldt_timestamps, na_price) #定义了横坐标。这样，如果某个交易日不交易，就不会出现在横轴，避免断线。 \n",
    "plt.legend(ls_symbols)\n",
    "plt.ylabel('Adjusted Close')\n",
    "plt.xlabel('Date')\n",
    "#lt.savefig('adjustedclose.pdf', format='pdf') #保存画图为pdf文件"
   ]
  },
  {
   "cell_type": "code",
   "execution_count": 24,
   "metadata": {
    "collapsed": false
   },
   "outputs": [],
   "source": [
    "# 价格是绝对数据不好比较。要进行标准化，变成相对自身初始价格的相对价格。 "
   ]
  },
  {
   "cell_type": "code",
   "execution_count": 23,
   "metadata": {
    "collapsed": true
   },
   "outputs": [],
   "source": [
    "na_normalized_price = na_price / na_price[0, :] 每列除以各自第一行"
   ]
  },
  {
   "cell_type": "code",
   "execution_count": 28,
   "metadata": {
    "collapsed": false
   },
   "outputs": [
    {
     "data": {
      "image/png": "[encoded data removed]",
      "text/plain": [
       "<matplotlib.figure.Figure at 0xa0f09b0>"
      ]
     },
     "metadata": {},
     "output_type": "display_data"
    }
   ],
   "source": [
    "%matplotlib inline\n",
    "na_price = d_data['close'].values #各个股票的值\n",
    "plt.clf() #清空画图区域\n",
    "plt.plot(ldt_timestamps, na_normalized_price)\n",
    "plt.grid(True)"
   ]
  },
  {
   "cell_type": "code",
   "execution_count": null,
   "metadata": {
    "collapsed": true
   },
   "outputs": [],
   "source": [
    "It is very often useful to look at the returns by day for individual stocks. The general equation for daily return on day t is:\n",
    "We can compute this in Python all at once as using the builtin QSTK function returnize 使用qstk的内件工具简单计算当天收益率"
   ]
  },
  {
   "cell_type": "code",
   "execution_count": 26,
   "metadata": {
    "collapsed": false
   },
   "outputs": [
    {
     "data": {
      "text/plain": [
       "array([[ 0.        ,  0.        ,  0.        ,  0.        ,  0.        ],\n",
       "       [ 0.00168935, -0.00091075, -0.00440367,  0.00311565,  0.00387297],\n",
       "       [-0.0158812 ,  0.01649954, -0.02520874,  0.00054552,  0.00864198],\n",
       "       [-0.00185652, -0.00618779, -0.02327952,  0.00400127, -0.00321297],\n",
       "       [ 0.00662915,  0.004963  ,  0.01333109,  0.00288169, -0.00399079],\n",
       "       [-0.00881224,  0.01328904, -0.00151158,  0.00174676,  0.01124981],\n",
       "       [-0.01137613, -0.02091272, -0.01768395, -0.00938116, -0.00502895],\n",
       "       [ 0.01411787,  0.00950312, -0.00574109,  0.00832585, -0.00398223],\n",
       "       [-0.00581645,  0.00439304,  0.00470115,  0.00242651,  0.00015378]])"
      ]
     },
     "execution_count": 26,
     "metadata": {},
     "output_type": "execute_result"
    }
   ],
   "source": [
    "na_rets = na_normalized_price.copy()\n",
    "tsu.returnize0(na_rets) #qstk的工具计算当天收益率"
   ]
  },
  {
   "cell_type": "code",
   "execution_count": 30,
   "metadata": {
    "collapsed": false
   },
   "outputs": [
    {
     "data": {
      "image/png": "[encoded data removed]",
      "text/plain": [
       "<matplotlib.figure.Figure at 0xa0f07f0>"
      ]
     },
     "metadata": {},
     "output_type": "display_data"
    }
   ],
   "source": [
    "dailyreturn = tsu.returnize0(na_rets)\n",
    "%matplotlib inline\n",
    "na_price = d_data['close'].values #各个股票的值\n",
    "plt.clf() #清空画图区域\n",
    "plt.plot(ldt_timestamps, dailyreturn)\n",
    "plt.legend(ls_symbols)\n",
    "plt.grid(True)"
   ]
  },
  {
   "cell_type": "code",
   "execution_count": null,
   "metadata": {
    "collapsed": true
   },
   "outputs": [],
   "source": [
    "#Goog和XOM的日收益波动更大"
   ]
  },
  {
   "cell_type": "code",
   "execution_count": null,
   "metadata": {
    "collapsed": true
   },
   "outputs": [],
   "source": []
  }
 ],
 "metadata": {
  "anaconda-cloud": {},
  "kernelspec": {
   "display_name": "Python [Root]",
   "language": "python",
   "name": "Python [Root]"
  },
  "language_info": {
   "codemirror_mode": {
    "name": "ipython",
    "version": 2
   },
   "file_extension": ".py",
   "mimetype": "text/x-python",
   "name": "python",
   "nbconvert_exporter": "python",
   "pygments_lexer": "ipython2",
   "version": "2.7.11"
  }
 },
 "nbformat": 4,
 "nbformat_minor": 0
}
