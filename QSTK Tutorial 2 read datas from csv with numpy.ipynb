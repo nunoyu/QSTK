{
 "cells": [
  {
   "cell_type": "code",
   "execution_count": 3,
   "metadata": {
    "collapsed": false
   },
   "outputs": [
    {
     "name": "stdout",
     "output_type": "stream",
     "text": [
      "First 5 rows of Price Data:\n",
      "[[ 137.67   87.81  685.19   84.86]\n",
      " [ 137.6    88.11  685.33   85.57]\n",
      " [ 134.23   86.47  657.     85.13]\n",
      " [ 134.11   85.66  649.25   84.77]\n",
      " [ 131.95   84.56  631.68   86.78]]\n",
      "\n",
      "First 5 rows of Dates:\n",
      "[[2008    1    2]\n",
      " [2008    1    3]\n",
      " [2008    1    4]\n",
      " [2008    1    7]\n",
      " [2008    1    8]]\n"
     ]
    },
    {
     "data": {
      "image/png": "[encoded data removed]",
      "text/plain": [
       "<matplotlib.figure.Figure at 0x8320dd8>"
      ]
     },
     "metadata": {},
     "output_type": "display_data"
    }
   ],
   "source": [
    "'''\n",
    "(c) 2011, 2012 Georgia Tech Research Corporation\n",
    "This source code is released under the New BSD license.  Please see\n",
    "http://wiki.quantsoftware.org/index.php?title=QSTK_License\n",
    "for license details.\n",
    "\n",
    "Created on January, 24, 2013\n",
    "\n",
    "@author: Sourabh Bajaj\n",
    "@contact: sourabhbajaj@gatech.edu\n",
    "@summary: Example tutorial code.\n",
    "'''\n",
    "\n",
    "# QSTK Imports\n",
    "import QSTK.qstkutil.qsdateutil as du\n",
    "import QSTK.qstkutil.tsutil as tsu\n",
    "import QSTK.qstkutil.DataAccess as da\n",
    "\n",
    "# Third Party Imports\n",
    "import datetime as dt\n",
    "import matplotlib.pyplot as plt\n",
    "import pandas as pd\n",
    "import numpy as np\n",
    "%matplotlib inline\n",
    "\n",
    "\n",
    "def main():\n",
    "    ''' Main Function'''\n",
    "\n",
    "    # Reading the csv file.\n",
    "    na_data = np.loadtxt('example-data.csv', delimiter=',', skiprows=1) #调用np的读取csv的函数，参数为分隔符，空行等\n",
    "    na_price = na_data[:, 3:]  # Default np.loadtxt datatype is float. numpy数组的独特调用格式，将原数据拆分成两个表\n",
    "    na_dates = np.int_(na_data[:, 0:3])  # Dates should be int\n",
    "    ls_symbols = ['$SPX', 'XOM', 'GOOG', 'GLD']\n",
    "\n",
    "    # Printing the first 5 rows\n",
    "    print \"First 5 rows of Price Data:\"\n",
    "    print na_price[:5, :]\n",
    "    print\n",
    "    print \"First 5 rows of Dates:\"\n",
    "    print na_dates[:5, :]\n",
    "\n",
    "    # Creating the timestamps from dates read\n",
    "    ldt_timestamps = []\n",
    "    for i in range(0, na_dates.shape[0]): # shape函数，调用行数和列数，0为纵向，即行数。\n",
    "        ldt_timestamps.append(dt.date(na_dates[i, 0],  #解析日期，让后组成一个list。这个方法不用调用datetime的range，而是自己一个个写。\n",
    "                        na_dates[i, 1], na_dates[i, 2]))\n",
    "\n",
    "    # Plotting the prices with x-axis=timestamps\n",
    "    plt.clf()\n",
    "    plt.plot(ldt_timestamps, na_price)\n",
    "    plt.legend(ls_symbols)\n",
    "    plt.ylabel('Adjusted Close')\n",
    "    plt.xlabel('Date')\n",
    "    plt.savefig('adjustedclose.pdf', format='pdf')\n",
    "\n",
    "    # Normalizing the prices to start at 1 and see relative returns\n",
    "    na_normalized_price = na_price / na_price[0, :]\n",
    "\n",
    "    # Plotting the prices with x-axis=timestamps\n",
    "    plt.clf()\n",
    "    plt.plot(ldt_timestamps, na_normalized_price)\n",
    "    plt.legend(ls_symbols)\n",
    "    plt.ylabel('Normalized Close')\n",
    "    plt.xlabel('Date')\n",
    "    plt.savefig('normalized.pdf', format='pdf')\n",
    "\n",
    "    # Copy the normalized prices to a new ndarry to find returns.\n",
    "    na_rets = na_normalized_price.copy()\n",
    "\n",
    "    # Calculate the daily returns of the prices. (Inplace calculation)\n",
    "    tsu.returnize0(na_rets)\n",
    "\n",
    "    # Plotting the plot of daily returns\n",
    "    plt.clf()\n",
    "    plt.plot(ldt_timestamps[0:50], na_rets[0:50, 0])  # $SPX 50 days\n",
    "    plt.plot(ldt_timestamps[0:50], na_rets[0:50, 1])  # XOM 50 days\n",
    "    plt.axhline(y=0, color='r')\n",
    "    plt.legend(['$SPX', 'XOM'])\n",
    "    plt.ylabel('Daily Returns')\n",
    "    plt.xlabel('Date')\n",
    "    plt.savefig('rets.pdf', format='pdf')\n",
    "\n",
    "    # Plotting the scatter plot of daily returns between XOM VS $SPX\n",
    "    plt.clf()\n",
    "    plt.scatter(na_rets[:, 0], na_rets[:, 1], c='blue')\n",
    "    plt.ylabel('XOM')\n",
    "    plt.xlabel('$SPX')\n",
    "    plt.savefig('scatterSPXvXOM.pdf', format='pdf')\n",
    "\n",
    "    # Plotting the scatter plot of daily returns between $SPX VS GLD\n",
    "    plt.clf()\n",
    "    plt.scatter(na_rets[:, 0], na_rets[:, 3], c='blue')  # $SPX v GLD\n",
    "    plt.ylabel('GLD')\n",
    "    plt.xlabel('$SPX')\n",
    "    plt.savefig('scatterSPXvGLD.pdf', format='pdf')\n",
    "\n",
    "if __name__ == '__main__':\n",
    "    main()\n"
   ]
  },
  {
   "cell_type": "code",
   "execution_count": null,
   "metadata": {
    "collapsed": true
   },
   "outputs": [],
   "source": []
  }
 ],
 "metadata": {
  "anaconda-cloud": {},
  "kernelspec": {
   "display_name": "Python 2",
   "language": "python",
   "name": "python2"
  },
  "language_info": {
   "codemirror_mode": {
    "name": "ipython",
    "version": 2
   },
   "file_extension": ".py",
   "mimetype": "text/x-python",
   "name": "python",
   "nbconvert_exporter": "python",
   "pygments_lexer": "ipython2",
   "version": "2.7.12"
  }
 },
 "nbformat": 4,
 "nbformat_minor": 0
}
