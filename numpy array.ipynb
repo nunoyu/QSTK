{
 "cells": [
  {
   "cell_type": "code",
   "execution_count": 1,
   "metadata": {
    "collapsed": false
   },
   "outputs": [
    {
     "data": {
      "text/plain": [
       "array([[ 0.,  0.,  0.],\n",
       "       [ 0.,  0.,  0.]])"
      ]
     },
     "execution_count": 1,
     "metadata": {},
     "output_type": "execute_result"
    }
   ],
   "source": [
    "import numpy as np \n",
    "np.zeros((2, 3))"
   ]
  },
  {
   "cell_type": "code",
   "execution_count": 2,
   "metadata": {
    "collapsed": false
   },
   "outputs": [
    {
     "data": {
      "text/plain": [
       "array([[ 0.30511677,  0.10802618,  0.70744868],\n",
       "       [ 0.10501039,  0.42744627,  0.23299733]])"
      ]
     },
     "execution_count": 2,
     "metadata": {},
     "output_type": "execute_result"
    }
   ],
   "source": [
    "randomArray = np.random.random((2, 3))\n",
    "randomArray\n"
   ]
  },
  {
   "cell_type": "code",
   "execution_count": 3,
   "metadata": {
    "collapsed": false
   },
   "outputs": [
    {
     "data": {
      "text/plain": [
       "0.23299733432055503"
      ]
     },
     "execution_count": 3,
     "metadata": {},
     "output_type": "execute_result"
    }
   ],
   "source": [
    "randomArray[1][2]"
   ]
  },
  {
   "cell_type": "code",
   "execution_count": 4,
   "metadata": {
    "collapsed": false
   },
   "outputs": [
    {
     "data": {
      "text/plain": [
       "0.23299733432055503"
      ]
     },
     "execution_count": 4,
     "metadata": {},
     "output_type": "execute_result"
    }
   ],
   "source": [
    "randomArray[1,2] #d调用方法挺有意思。行列都在同一个中括号内"
   ]
  },
  {
   "cell_type": "code",
   "execution_count": 5,
   "metadata": {
    "collapsed": false
   },
   "outputs": [
    {
     "data": {
      "text/plain": [
       "array([[ 0.30511677,  0.10802618],\n",
       "       [ 0.70744868,  0.10501039],\n",
       "       [ 0.42744627,  0.23299733]])"
      ]
     },
     "execution_count": 5,
     "metadata": {},
     "output_type": "execute_result"
    }
   ],
   "source": [
    "randomArray.reshape((3, 2))"
   ]
  },
  {
   "cell_type": "code",
   "execution_count": 6,
   "metadata": {
    "collapsed": true
   },
   "outputs": [],
   "source": [
    "squareArray = np.arange(1, 10).reshape((3, 3))"
   ]
  },
  {
   "cell_type": "code",
   "execution_count": 7,
   "metadata": {
    "collapsed": false
   },
   "outputs": [
    {
     "data": {
      "text/plain": [
       "array([1, 2])"
      ]
     },
     "execution_count": 7,
     "metadata": {},
     "output_type": "execute_result"
    }
   ],
   "source": [
    "squareArray[0, 0:2] #第一行，0,1列。 "
   ]
  },
  {
   "cell_type": "code",
   "execution_count": 8,
   "metadata": {
    "collapsed": false
   },
   "outputs": [
    {
     "data": {
      "text/plain": [
       "array([[ 0.56033178],\n",
       "       [ 0.56033178],\n",
       "       [ 0.29269465],\n",
       "       [ 0.75065887]])"
      ]
     },
     "execution_count": 8,
     "metadata": {},
     "output_type": "execute_result"
    }
   ],
   "source": [
    "randomRow = np.random.random((10, 1))\n",
    "fibIndices = np.array([1, 1, 2, 3])\n",
    "randomRow[fibIndices] #用数组作为调用的值"
   ]
  },
  {
   "cell_type": "code",
   "execution_count": 9,
   "metadata": {
    "collapsed": false
   },
   "outputs": [
    {
     "data": {
      "text/plain": [
       "array([1, 3, 5, 7, 9])"
      ]
     },
     "execution_count": 9,
     "metadata": {},
     "output_type": "execute_result"
    }
   ],
   "source": [
    "boolIndices = np.array([[True, False, True], [False, True, False], [True, False, True]]) #多维数组，中括号套中括号\n",
    "squareArray[boolIndices] #仅仅调用true的"
   ]
  },
  {
   "cell_type": "code",
   "execution_count": 10,
   "metadata": {
    "collapsed": false
   },
   "outputs": [
    {
     "data": {
      "text/plain": [
       "5.0"
      ]
     },
     "execution_count": 10,
     "metadata": {},
     "output_type": "execute_result"
    }
   ],
   "source": [
    "np.median(squareArray)"
   ]
  },
  {
   "cell_type": "code",
   "execution_count": 11,
   "metadata": {
    "collapsed": false
   },
   "outputs": [
    {
     "data": {
      "text/plain": [
       "45"
      ]
     },
     "execution_count": 11,
     "metadata": {},
     "output_type": "execute_result"
    }
   ],
   "source": [
    "np.sum(squareArray)"
   ]
  },
  {
   "cell_type": "code",
   "execution_count": 12,
   "metadata": {
    "collapsed": false
   },
   "outputs": [
    {
     "data": {
      "text/plain": [
       "12"
      ]
     },
     "execution_count": 12,
     "metadata": {},
     "output_type": "execute_result"
    }
   ],
   "source": [
    "np.sum(squareArray[:, 0])"
   ]
  },
  {
   "cell_type": "code",
   "execution_count": 17,
   "metadata": {
    "collapsed": false
   },
   "outputs": [
    {
     "data": {
      "text/plain": [
       "array([[False, False, False],\n",
       "       [False, False,  True],\n",
       "       [ True,  True,  True]], dtype=bool)"
      ]
     },
     "execution_count": 17,
     "metadata": {},
     "output_type": "execute_result"
    }
   ],
   "source": [
    "betterAverage = squareArray > np.average(squareArray) #哪些大于均值，返回布尔值\n",
    "betterAverage #本身是一个有是、否组成的数组。用来调用相应位置的数值。"
   ]
  },
  {
   "cell_type": "code",
   "execution_count": 15,
   "metadata": {
    "collapsed": false
   },
   "outputs": [
    {
     "data": {
      "text/plain": [
       "array([6, 7, 8, 9])"
      ]
     },
     "execution_count": 15,
     "metadata": {},
     "output_type": "execute_result"
    }
   ],
   "source": [
    "squareArray[betterAverage] # 选出大于均值的数字。对使用矩阵作为调用符合某些条件的index的一个范例"
   ]
  },
  {
   "cell_type": "markdown",
   "metadata": {},
   "source": [
    "1、np的各种命令array, arange(array range的缩写)，zeros, ones，random产生的对象都是array属性\n",
    "2、array可以reshape\n",
    "3、array的数据提供是list，其内部元素也是list，所以就是中括号套中括号\n",
    "4、array的调用可以是一个list，每个元素表示第几个位置；或者[0:n, 0:n ],横纵坐标都在一个中括号内，当然两个中括号也很好用；或者同形态结构的数组作为下标来调用，例如同形态的True, Flase；或者是一个条件等式，例如数组大于某个值，返回数组形态的true, false。\n",
    "5、pandas的dataframa主要是处理时间序列；numpy主要进行数字计算，使用c语言编写，运行速度快。\n",
    "\n"
   ]
  },
  {
   "cell_type": "code",
   "execution_count": 22,
   "metadata": {
    "collapsed": false
   },
   "outputs": [],
   "source": [
    "sqAverage = np.average(squareArray)\n",
    "sqStdDev = np.std(squareArray)\n",
    "clampedSqArray = np.array(squareArray.copy(), dtype=float) \n",
    "                                    # make a copy of squareArray that will\n",
    "                                    # be \"clamped\". It will only contain\n",
    "                                    # values within one standard deviation\n",
    "                                    # of the mean. Values that are too low\n",
    "                                    # or to high will be set to the min\n",
    "                                    # and max respectively. We set \n",
    "                                    # dtype=float because sqAverage\n",
    "                                    # and sqStdDev are floating point\n",
    "                                    # numbers, and we don't want to \n",
    "                                    # truncate them down to integers.\n",
    "clampedSqArray[ (squareArray-sqAverage) > sqStdDev ] = sqAverage+sqStdDev #直接用等式计算一个true、false矩阵作为index调用所谓数组元素，然后赋值。"
   ]
  },
  {
   "cell_type": "code",
   "execution_count": 16,
   "metadata": {
    "collapsed": false
   },
   "outputs": [
    {
     "name": "stdout",
     "output_type": "stream",
     "text": [
      "[[ 2  4  6]\n",
      " [ 8 10 12]\n",
      " [14 16 18]]\n",
      "[[  2.   3.   4.]\n",
      " [  5.   6.   7.]\n",
      " [  8.   9.  10.]]\n",
      "[[ 1  4  9]\n",
      " [16 25 36]\n",
      " [49 64 81]]\n",
      "[[19 22]\n",
      " [43 50]]\n"
     ]
    }
   ],
   "source": [
    "print squareArray * 2 # [[ 2  4  6] 除非用点程，否则矩阵都是简单的一一对应四则运算。\n",
    "                      #  [ 8  0 12]\n",
    "                      #  [ 2  2  2]]\n",
    "\n",
    "## Addition works similarly:\n",
    "print squareArray + np.ones( (3,3) ) #[[2 3 4]\n",
    "                                     # [5 1 7]\n",
    "                                     # [2 2 2]]\n",
    "\n",
    "## Multiplying two arrays together (of the same size) is also element wise\n",
    "print squareArray * np.arange(1,10).reshape( (3,3) ) #[[ 1  4  9]\n",
    "                                                     # [16  0 36]\n",
    "                                                     # [ 7  8  9]]\n",
    "\n",
    "## Unless you use the dot(...) function, which does matrix multiplication\n",
    "## from linear algebra:\n",
    "matA = np.array( [[1,2],[3,4]] )\n",
    "matB = np.array( [[5,6],[7,8]] )\n",
    "print np.dot(matA,matB) #[[19 22] 此处才是矩阵的点乘\n",
    "                        # [43 50]]"
   ]
  },
  {
   "cell_type": "code",
   "execution_count": 19,
   "metadata": {
    "collapsed": true
   },
   "outputs": [],
   "source": [
    "fred = squareArray.copy() #这样，改变fred不会改变squareArray"
   ]
  },
  {
   "cell_type": "code",
   "execution_count": null,
   "metadata": {
    "collapsed": true
   },
   "outputs": [],
   "source": []
  },
  {
   "cell_type": "code",
   "execution_count": null,
   "metadata": {
    "collapsed": true
   },
   "outputs": [],
   "source": []
  }
 ],
 "metadata": {
  "anaconda-cloud": {},
  "kernelspec": {
   "display_name": "Python [Root]",
   "language": "python",
   "name": "Python [Root]"
  },
  "language_info": {
   "codemirror_mode": {
    "name": "ipython",
    "version": 2
   },
   "file_extension": ".py",
   "mimetype": "text/x-python",
   "name": "python",
   "nbconvert_exporter": "python",
   "pygments_lexer": "ipython2",
   "version": "2.7.11"
  }
 },
 "nbformat": 4,
 "nbformat_minor": 0
}
